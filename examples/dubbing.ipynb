{
 "cells": [
  {
   "cell_type": "markdown",
   "metadata": {},
   "source": [
    "# Dubbing Task\n",
    "\n",
    "This is an example Python notebook for running dubbing tasks using [Camb.ai](https://camb.ai)'s API\n",
    "\n",
    "# Index\n",
    "- [Optional: Loading API Key from .env file](#optional-loading-api-key-from-env-file)\n",
    "- [Dub Method](#dub-method)\n",
    "- [Individual Methods](#individual-methods)\n",
    "  - [Create End-to-End Dubbing Task](#create-end-to-end-dubbing-task)\n",
    "  - [Get Dubbing Status](#get-dubbing-status)\n",
    "  - [Get Dubbed Run Info](#get-dubbed-run-info)"
   ]
  },
  {
   "cell_type": "code",
   "execution_count": null,
   "metadata": {},
   "outputs": [],
   "source": [
    "# !pip install cambai"
   ]
  },
  {
   "cell_type": "markdown",
   "metadata": {},
   "source": [
    "To get started, make sure you import both the `CambAI` class from the `cambai` module.\n",
    "\n",
    "Ensure that you have the Camb AI API Key from https://studio.camb.ai"
   ]
  },
  {
   "cell_type": "code",
   "execution_count": null,
   "metadata": {},
   "outputs": [],
   "source": [
    "import os\n",
    "from cambai import CambAI"
   ]
  },
  {
   "cell_type": "code",
   "execution_count": null,
   "metadata": {},
   "outputs": [],
   "source": [
    "client = CambAI(\n",
    "    api_key=os.environ.get(\"CAMB_API_KEY\") # Get your API key from https://studio.camb.ai\n",
    ")"
   ]
  },
  {
   "cell_type": "markdown",
   "metadata": {},
   "source": [
    "### Optional: Loading API Key from .env file\n",
    "\n",
    "While you can provide an `api_key` as an argument, we recommend using [`python-dotenv`](https://pypi.org/project/python-dotenv/) to add `CAMB_API_KEY=\"Your API Key\"` to your `.env` file to prevent your API Key from being stored in source control."
   ]
  },
  {
   "cell_type": "code",
   "execution_count": null,
   "metadata": {},
   "outputs": [],
   "source": [
    "# !pip install python-dotenv"
   ]
  },
  {
   "cell_type": "code",
   "execution_count": null,
   "metadata": {},
   "outputs": [],
   "source": [
    "from dotenv import load_dotenv\n",
    "\n",
    "load_dotenv()\n",
    "\n",
    "client = CambAI(\n",
    "    api_key=os.environ.get(\"CAMB_API_KEY\") # Get your API key from https://studio.camb.ai\n",
    ")"
   ]
  },
  {
   "cell_type": "markdown",
   "metadata": {},
   "source": [
    "----\n",
    "\n",
    "To get the numbers for the list of all available languages, you can use the `get_languages()` method.\n",
    "\n",
    "You can also save the list of languages to a file by setting the `write_to_file` argument to `True`."
   ]
  },
  {
   "cell_type": "code",
   "execution_count": null,
   "metadata": {},
   "outputs": [],
   "source": [
    "client.get_languages(\"source\", write_to_file=True)\n",
    "# client.get_languages(\"target\", write_to_file=True)"
   ]
  },
  {
   "cell_type": "markdown",
   "metadata": {},
   "source": [
    "---\n",
    "---\n",
    "\n",
    "## Dub Method\n",
    "\n",
    "You can call the `dub` method to perform the entire end-to-end dubbing process.<br>\n",
    "From calling the API, to getting the final dubbed run info."
   ]
  },
  {
   "cell_type": "code",
   "execution_count": null,
   "metadata": {},
   "outputs": [],
   "source": [
    "values = client.dub(\n",
    "    video_url=\"https://youtu.be/rlK-BySadHk\", # Any publicly accessible video URL\n",
    "    source_language=37,  # English (Ireland)\n",
    "    target_language=54,  # Spanish (Spain)\n",
    "    debug=True,          # You can set this to True to see the progress of the dubbing process\n",
    "    polling_interval=70\n",
    ")"
   ]
  },
  {
   "cell_type": "markdown",
   "metadata": {},
   "source": [
    "**NOTE:** The dubbing process can take a while to complete, so it's better to set the polling interval to a higher value, especially for longer videos."
   ]
  },
  {
   "cell_type": "code",
   "execution_count": null,
   "metadata": {},
   "outputs": [],
   "source": [
    "values[\"video_url\"]"
   ]
  },
  {
   "cell_type": "code",
   "execution_count": null,
   "metadata": {},
   "outputs": [],
   "source": [
    "values[\"audio_url\"]"
   ]
  },
  {
   "cell_type": "markdown",
   "metadata": {},
   "source": [
    "### Optional: Downloading via [`yt-dlp`](https://pypi.org/project/yt-dlp/)\n",
    "\n",
    "You can also download the dubbed video using [`yt-dlp`](https://pypi.org/project/yt-dlp/)."
   ]
  },
  {
   "cell_type": "code",
   "execution_count": null,
   "metadata": {},
   "outputs": [],
   "source": [
    "# !pip install yt-dlp"
   ]
  },
  {
   "cell_type": "code",
   "execution_count": null,
   "metadata": {},
   "outputs": [],
   "source": [
    "from yt_dlp import YoutubeDL\n",
    "\n",
    "values = client.dub(\n",
    "    video_url=\"https://youtu.be/rlK-BySadHk\", # Any publicly accessible video URL\n",
    "    source_language=37,  # English (Ireland)\n",
    "    target_language=54,  # Spanish (Spain)\n",
    "    debug=True,          # You can set this to True to see the progress of the dubbing process\n",
    "    polling_interval=70\n",
    ")\n",
    "\n",
    "URLS = [\n",
    "    values[\"video_url\"],\n",
    "    values[\"audio_url\"]\n",
    "]\n",
    "\n",
    "ydl_opts = {\n",
    "    \"outtmpl\": f\"dubbed_video_{values[\"run_id\"]}\" + \".%(ext)s\",\n",
    "    \"format\": \"mp4\", # Change this to \"mp3\" if you want to download the audio only\n",
    "    \"overwrite\": True,\n",
    "}\n",
    "\n",
    "with YoutubeDL(ydl_opts) as ydl:\n",
    "    error_code = ydl.download(URLS)"
   ]
  },
  {
   "cell_type": "markdown",
   "metadata": {},
   "source": [
    "---\n",
    "---\n",
    "\n",
    "## Individual Methods\n",
    "\n",
    "You can also access individual methods to have more control over the dubbing task.\n",
    "\n",
    "- [`start_dubbbing()`](#create-end-to-end-dubbing-task)\n",
    "- [`get_dubbing_status()`](#get-dubbing-status)\n",
    "- [`get_dubbed_run_info()`](#get-dubbed-run-info)"
   ]
  },
  {
   "cell_type": "markdown",
   "metadata": {},
   "source": [
    "### Create End-to-End Dubbing Task\n",
    "\n",
    "This method creates the dubbing task and returns the `run_id` which can be used to check the status of the dubbing task."
   ]
  },
  {
   "cell_type": "code",
   "execution_count": null,
   "metadata": {},
   "outputs": [],
   "source": [
    "task = client.start_dubbing(\"https://youtu.be/rlK-BySadHk\", 37, 125)\n",
    "\n",
    "task_id = task[\"task_id\"]"
   ]
  },
  {
   "cell_type": "code",
   "execution_count": null,
   "metadata": {},
   "outputs": [],
   "source": [
    "task_id = '31f7af5f-346d-49c9-930b-f2d5e5dc5b4a'"
   ]
  },
  {
   "cell_type": "markdown",
   "metadata": {},
   "source": [
    "----\n",
    "\n",
    "### Get Dubbing Status\n",
    "\n",
    "This method returns the status of the dubbing task.\n",
    "\n",
    "If you got the \"SUCCESS\" status, then the dubbing task is completed and you can get the download link for the dubbed audio from `get_dubbed_run_info()`.\n",
    "\n",
    "The status can be one of the following:\n",
    "- SUCCESS\n",
    "- PENDING\n",
    "- TIMEOUT\n",
    "- ERROR\n",
    "- PAYMENT_REQUIRED"
   ]
  },
  {
   "cell_type": "code",
   "execution_count": null,
   "metadata": {},
   "outputs": [],
   "source": [
    "dubbing_status = client.get_task_status(\"dubbing\", task_id)\n",
    "# dubbing_status = client.get_dubbing_status(task_id)\n",
    "\n",
    "status = dubbing_status[\"status\"]\n",
    "run_id = dubbing_status[\"run_id\"]"
   ]
  },
  {
   "cell_type": "code",
   "execution_count": null,
   "metadata": {},
   "outputs": [],
   "source": [
    "status, run_id"
   ]
  },
  {
   "cell_type": "markdown",
   "metadata": {},
   "source": [
    "**NOTE:** The dubbing task may take some time to complete."
   ]
  },
  {
   "cell_type": "markdown",
   "metadata": {},
   "source": [
    "----\n",
    "\n",
    "### Get Dubbed Run Info\n",
    "\n",
    "You can use this method to get the links for downloading the dubbed video and audio,<br>\n",
    "as well as the transcript of the dubbed video in the target language."
   ]
  },
  {
   "cell_type": "code",
   "execution_count": null,
   "metadata": {},
   "outputs": [],
   "source": [
    "dubbed_info = client.get_dubbed_run_info(run_id)"
   ]
  },
  {
   "cell_type": "code",
   "execution_count": null,
   "metadata": {},
   "outputs": [],
   "source": [
    "dubbed_info[\"video_url\"]"
   ]
  },
  {
   "cell_type": "code",
   "execution_count": null,
   "metadata": {},
   "outputs": [],
   "source": [
    "dubbed_info[\"audio_url\"]"
   ]
  },
  {
   "cell_type": "code",
   "execution_count": null,
   "metadata": {},
   "outputs": [],
   "source": [
    "dubbed_info[\"transcript\"]"
   ]
  },
  {
   "cell_type": "markdown",
   "metadata": {},
   "source": [
    "----\n",
    "\n",
    "To know more, check out Camb AI's [API Documentation](https://docs.camb.ai)."
   ]
  }
 ],
 "metadata": {
  "kernelspec": {
   "display_name": ".venv",
   "language": "python",
   "name": "python3"
  },
  "language_info": {
   "codemirror_mode": {
    "name": "ipython",
    "version": 3
   },
   "file_extension": ".py",
   "mimetype": "text/x-python",
   "name": "python",
   "nbconvert_exporter": "python",
   "pygments_lexer": "ipython3",
   "version": "3.12.3"
  }
 },
 "nbformat": 4,
 "nbformat_minor": 2
}
