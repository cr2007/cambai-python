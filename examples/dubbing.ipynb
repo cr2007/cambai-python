{
 "cells": [
  {
   "cell_type": "markdown",
   "metadata": {},
   "source": [
    "# Dubbing Task\n",
    "\n",
    "This is an example Python notebook for running dubbing tasks using [Camb.ai](https://camb.ai)'s API\n",
    "\n",
    "# Index\n",
    "- [Dub Method](#dub-method)\n",
    "- [Individual Methods](#individual-methods)\n",
    "  - [Create End-to-End Dubbing Task](#create-end-to-end-dubbing-task)\n",
    "  - [Get Dubbing Status](#get-dubbing-status)\n",
    "  - [Get Dubbed Run Info](#get-dubbed-run-info)"
   ]
  },
  {
   "cell_type": "code",
   "execution_count": 1,
   "metadata": {},
   "outputs": [],
   "source": [
    "# !pip install cambai"
   ]
  },
  {
   "cell_type": "markdown",
   "metadata": {},
   "source": [
    "To get started, make sure you import both the `CambAI` class from the `cambai` module.\n",
    "\n",
    "Ensure that you have the Camb AI API Key from https://studio.camb.ai"
   ]
  },
  {
   "cell_type": "code",
   "execution_count": 2,
   "metadata": {},
   "outputs": [],
   "source": [
    "import os\n",
    "from cambai import CambAI"
   ]
  },
  {
   "cell_type": "code",
   "execution_count": 4,
   "metadata": {},
   "outputs": [],
   "source": [
    "client = CambAI(\n",
    "    api_key=os.environ.get(\"CAMB_API_KEY\") # Get your API key from https://studio.camb.ai\n",
    ")"
   ]
  },
  {
   "cell_type": "markdown",
   "metadata": {},
   "source": [
    "👆 While you can provide an `api_key` as an argument, we recommend using [`python-dotenv`](https://pypi.org/project/python-dotenv/) to add `CAMB_API_KEY=\"Your API Key\"` to your `.env` file to prevent your API Key from being stored in source control.\n",
    "\n",
    "---\n",
    "To get the numbers for the list of all available languages, you can use the `get_languages()` method.\n",
    "\n",
    "You can also save the list of languages to a file by setting the `write_to_file` argument to `True`."
   ]
  },
  {
   "cell_type": "code",
   "execution_count": null,
   "metadata": {},
   "outputs": [],
   "source": [
    "client.get_languages(\"source\", write_to_file=True)\n",
    "# client.get_languages(\"target\", write_to_file=True)"
   ]
  },
  {
   "cell_type": "markdown",
   "metadata": {},
   "source": [
    "## Dub Method\n",
    "\n",
    "You can call the `dub` method to perform the entire end-to-end dubbing process.<br>\n",
    "From calling the API, to getting the final dubbed run info."
   ]
  },
  {
   "cell_type": "code",
   "execution_count": null,
   "metadata": {},
   "outputs": [],
   "source": [
    "values = client.dub(\n",
    "    video_url=\"https://youtu.be/rlK-BySadHk\", # Any publicly accessible video URL\n",
    "    source_language=37,  # English (Ireland)\n",
    "    target_language=54,  # Spanish (Spain)\n",
    "    debug=True,          # You can set this to True to see the progress of the dubbing process\n",
    "    polling_interval=70\n",
    ")"
   ]
  },
  {
   "cell_type": "markdown",
   "metadata": {},
   "source": [
    "**NOTE:** The dubbing process can take a while to complete, so it's better to set the polling interval to a higher value, especially for longer videos."
   ]
  },
  {
   "cell_type": "code",
   "execution_count": null,
   "metadata": {},
   "outputs": [],
   "source": [
    "values[\"video_url\"]"
   ]
  },
  {
   "cell_type": "code",
   "execution_count": null,
   "metadata": {},
   "outputs": [],
   "source": [
    "values[\"audio_url\"]"
   ]
  },
  {
   "cell_type": "markdown",
   "metadata": {},
   "source": [
    "---\n",
    "---\n",
    "\n",
    "## Individual Methods\n",
    "\n",
    "You can also access individual methods to have more control over the dubbing task.\n",
    "\n",
    "- [`start_dubbbing()`](#create-end-to-end-dubbing-task)\n",
    "- [`get_dubbing_status()`](#get-dubbing-status)\n",
    "- [`get_dubbed_run_info()`](#get-dubbed-run-info)"
   ]
  },
  {
   "cell_type": "markdown",
   "metadata": {},
   "source": [
    "### Create End-to-End Dubbing Task\n",
    "\n",
    "This method creates the dubbing task and returns the `run_id` which can be used to check the status of the dubbing task."
   ]
  },
  {
   "cell_type": "code",
   "execution_count": 6,
   "metadata": {},
   "outputs": [],
   "source": [
    "task = client.start_dubbing(\"https://youtu.be/rlK-BySadHk\", 37, 125)\n",
    "\n",
    "task_id = task[\"task_id\"]"
   ]
  },
  {
   "cell_type": "code",
   "execution_count": 7,
   "metadata": {},
   "outputs": [
    {
     "data": {
      "text/plain": [
       "'31f7af5f-346d-49c9-930b-f2d5e5dc5b4a'"
      ]
     },
     "execution_count": 7,
     "metadata": {},
     "output_type": "execute_result"
    }
   ],
   "source": [
    "task_id"
   ]
  },
  {
   "cell_type": "markdown",
   "metadata": {},
   "source": [
    "---"
   ]
  },
  {
   "cell_type": "markdown",
   "metadata": {},
   "source": [
    "### Get Dubbing Status\n",
    "\n",
    "This method returns the status of the dubbing task.\n",
    "\n",
    "If you got the \"SUCCESS\" status, then the dubbing task is completed and you can get the download link for the dubbed audio from `get_dubbed_run_info()`."
   ]
  },
  {
   "cell_type": "code",
   "execution_count": 12,
   "metadata": {},
   "outputs": [],
   "source": [
    "dubbing_status = client.get_dubbing_status(task_id)\n",
    "\n",
    "status = dubbing_status[\"status\"]\n",
    "run_id = dubbing_status[\"run_id\"]"
   ]
  },
  {
   "cell_type": "code",
   "execution_count": 13,
   "metadata": {},
   "outputs": [
    {
     "data": {
      "text/plain": [
       "'SUCCESS'"
      ]
     },
     "execution_count": 13,
     "metadata": {},
     "output_type": "execute_result"
    }
   ],
   "source": [
    "status"
   ]
  },
  {
   "cell_type": "code",
   "execution_count": 11,
   "metadata": {},
   "outputs": [
    {
     "data": {
      "text/plain": [
       "27897"
      ]
     },
     "execution_count": 11,
     "metadata": {},
     "output_type": "execute_result"
    }
   ],
   "source": [
    "run_id"
   ]
  },
  {
   "cell_type": "markdown",
   "metadata": {},
   "source": [
    "**NOTE:** The dubbing task may take some time to complete."
   ]
  },
  {
   "cell_type": "markdown",
   "metadata": {},
   "source": [
    "----\n",
    "\n",
    "### Get Dubbed Run Info\n",
    "\n",
    "You can use this method to get the links for downloading the dubbed video and audio,<br>\n",
    "as well as the transcript of the dubbed video in the target language."
   ]
  },
  {
   "cell_type": "code",
   "execution_count": 14,
   "metadata": {},
   "outputs": [],
   "source": [
    "dubbed_info = client.get_dubbed_run_info(run_id)"
   ]
  },
  {
   "cell_type": "code",
   "execution_count": 15,
   "metadata": {},
   "outputs": [
    {
     "data": {
      "text/plain": [
       "'https://storage.googleapis.com/cambai-prod-bucket/temp/dubbed_runs/27897/output_video.mp4?Expires=1720547749&GoogleAccessId=cambai-deployment%40camb-ai-82e9a.iam.gserviceaccount.com&Signature=HR4Llr97rmqlUWPsmzVYB0aBgcasp%2BULl2UfTlJTJOJpOJHeouzUnQpfaEhEEiQib2cNcJy5ItSM1M1kxS8y%2FAiAmuWHVoAWWqfRoUobFwbAo2mMtG6XFhYrvTRsJfd8QDxQisUy7pnCe1TXCG%2B6YaH36cYuo5iYqfnTzLH8HK0TfEwfnzB7PmZR5ASDlZGwPsdxPZECNBDcT6wmnDxGDo67ifBgT3Syoe5SzihzKePrpBjbaj28qvz24eV60HeCOcfnk9TWpALqvtHlhOebgp%2BdQmN%2F%2FgdBciAWRq6%2FrBhMKADE3wPZsYZ%2FAnRQmwRVjc1PO8E9sgz2yxcOfFTUTw%3D%3D'"
      ]
     },
     "execution_count": 15,
     "metadata": {},
     "output_type": "execute_result"
    }
   ],
   "source": [
    "dubbed_info[\"video_url\"]"
   ]
  },
  {
   "cell_type": "code",
   "execution_count": 17,
   "metadata": {},
   "outputs": [
    {
     "data": {
      "text/plain": [
       "'https://storage.googleapis.com/cambai-prod-bucket/temp/dubbed_runs/27897/output_audio.wav?Expires=1720547749&GoogleAccessId=cambai-deployment%40camb-ai-82e9a.iam.gserviceaccount.com&Signature=AFJ7meODdqZgMVlj9JJiA%2BGUeYYSTFeL1h6Gzdg%2FjCfjzxKV3LBgd5xQDQUA1IONWLrVx%2FjMwtJCEK5xgmflvjPAn%2F1u8%2Fyr209a8pe%2Fr3cT%2F%2FATGJrj0GDt%2B3iz%2Fx8zQp6LFw4AgSq3tQTs%2BihHFfZXgG8mXxt4Gzi63%2B7mzMudYFoPfBp%2FeJUSR1ZcxBxh1Q78XUwYThE4kdz7IcQWO5bH68SDg91lkRdf6cFihbuk1FyoGzgaSXNnXkau%2F%2BcHEynjZNwRpkrBR21Uy0N71uk0HWe7KM0%2BxDHWvuUNVt2vhQV4oRestPgwJogyab8HGijIUJhEi393F%2BfzkU%2BvgQ%3D%3D'"
      ]
     },
     "execution_count": 17,
     "metadata": {},
     "output_type": "execute_result"
    }
   ],
   "source": [
    "dubbed_info[\"audio_url\"]"
   ]
  },
  {
   "cell_type": "code",
   "execution_count": null,
   "metadata": {},
   "outputs": [],
   "source": [
    "dubbed_info[\"transcript\"]"
   ]
  }
 ],
 "metadata": {
  "kernelspec": {
   "display_name": ".venv",
   "language": "python",
   "name": "python3"
  },
  "language_info": {
   "codemirror_mode": {
    "name": "ipython",
    "version": 3
   },
   "file_extension": ".py",
   "mimetype": "text/x-python",
   "name": "python",
   "nbconvert_exporter": "python",
   "pygments_lexer": "ipython3",
   "version": "3.12.1"
  }
 },
 "nbformat": 4,
 "nbformat_minor": 2
}
