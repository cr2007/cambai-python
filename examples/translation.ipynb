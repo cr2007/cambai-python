{
 "cells": [
  {
   "cell_type": "markdown",
   "metadata": {},
   "source": [
    "# Translation Task\n",
    "\n",
    "This is an example Python notebook for running translation tasks using [Camb.ai](https://camb.ai)'s API.\n",
    "\n",
    "# Index"
   ]
  },
  {
   "cell_type": "code",
   "execution_count": null,
   "metadata": {},
   "outputs": [],
   "source": [
    "# !pip install cambai"
   ]
  },
  {
   "cell_type": "markdown",
   "metadata": {},
   "source": [
    "To get started, make sure you import both the `CambAI` class from the `cambai` module.\n",
    "\n",
    "Ensure that you have the Camb AI API Key from https://studio.camb.ai"
   ]
  },
  {
   "cell_type": "code",
   "execution_count": null,
   "metadata": {},
   "outputs": [],
   "source": [
    "import os\n",
    "from cambai import CambAI, Gender"
   ]
  },
  {
   "cell_type": "code",
   "execution_count": null,
   "metadata": {},
   "outputs": [],
   "source": [
    "client = CambAI(\n",
    "    api_key=os.environ.get(\"CAMB_API_KEY\") # Get your API key from https://studio.camb.ai\n",
    ")"
   ]
  },
  {
   "cell_type": "markdown",
   "metadata": {},
   "source": [
    "### Optional: Loading API Key from .env file\n",
    "\n",
    "While you can provide an `api_key` as an argument, we recommend using [`python-dotenv`](https://pypi.org/project/python-dotenv/) to add `CAMB_API_KEY=\"Your API Key\"` to your `.env` file to prevent your API Key from being stored in source control."
   ]
  },
  {
   "cell_type": "code",
   "execution_count": null,
   "metadata": {},
   "outputs": [],
   "source": [
    "# !pip install python-dotenv"
   ]
  },
  {
   "cell_type": "code",
   "execution_count": null,
   "metadata": {},
   "outputs": [],
   "source": [
    "from dotenv import load_dotenv\n",
    "\n",
    "load_dotenv()\n",
    "\n",
    "client = CambAI(\n",
    "    api_key=os.environ.get(\"CAMB_API_KEY\") # Get your API key from https://studio.camb.ai\n",
    ")"
   ]
  },
  {
   "cell_type": "markdown",
   "metadata": {},
   "source": [
    "----\n",
    "\n",
    "To get the numbers for the list of all available languages, you can use the `get_languages()` method.\n",
    "\n",
    "You can also save the list of languages to a file by setting the `write_to_file` argument to `True`."
   ]
  },
  {
   "cell_type": "code",
   "execution_count": null,
   "metadata": {},
   "outputs": [],
   "source": [
    "client.get_languages(\"source\", write_to_file=True)\n",
    "# client.get_languages(\"target\", write_to_file=True)"
   ]
  },
  {
   "cell_type": "markdown",
   "metadata": {},
   "source": [
    "---\n",
    "---\n",
    "\n",
    "# Translate Method\n",
    "\n",
    "You can call the `translate()` method to perform the entire translate process.<br>\n",
    "From calling the API, to getting the translation result."
   ]
  },
  {
   "cell_type": "code",
   "execution_count": null,
   "metadata": {},
   "outputs": [],
   "source": [
    "translation = client.translate(\n",
    "    \"If you do not believe in yourself no one will do it for you.\", # ~ Kobe Bryant\n",
    "    source_language=1, # English (United States)\n",
    "    target_language=87, # Italian (Italy)\n",
    "    age=21,\n",
    "    # Optional Parameters\n",
    "    # formality=1,              # Optional, you can set the formality level of the translation to 1 or 2\n",
    "    # gender=Gender.NOT_KNOWN,  # Optional, you can set it to the below options\n",
    "    # save_to_file=False,       # Optional, you can save the translation to a file\n",
    "    # debug=True                # Optional, you can print the debug information\n",
    ")"
   ]
  },
  {
   "cell_type": "markdown",
   "metadata": {},
   "source": [
    "There are some optional arguments that you can configure, such as `gender`, `age`, `polling_interval`, `debug`, `output_directory`.<br>\n",
    "<br>\n",
    "\n",
    "The (optional) Gender options allow you to set the Gender to the following options:\n",
    "\n",
    "- `Gender.NOT_KNOWN`      (**0**)\n",
    "- `Gender.MALE`           (**1**)\n",
    "- `Gender.FEMALE`         (**2**)\n",
    "- `Gender.NOT_APPLICABLE` (**9**)\n",
    "\n",
    "---\n",
    "\n",
    "**NOTE:** The transcription process can take a while to complete, so depending on how long the text is, you may want to set the `polling_interval` attribute to a higher value."
   ]
  },
  {
   "cell_type": "markdown",
   "metadata": {},
   "source": [
    "---\n",
    "---\n",
    "\n",
    "# Individual Methods\n",
    "\n",
    "You can also access individual methods to have more control over the translation task.\n",
    "\n",
    "- [Create Translation](#create-translation-task)\n",
    "- [Get Translation Status](#get-transcription-status)\n",
    "- [Get Translation Result](#get-transcription-result)"
   ]
  },
  {
   "cell_type": "code",
   "execution_count": null,
   "metadata": {},
   "outputs": [],
   "source": [
    "task = client.create_translation(\"If you do not believe in yourself no one will do it for you.\", source_language=1, target_language=87, age=21)\n",
    "\n",
    "task_id = task[\"task_id\"]"
   ]
  },
  {
   "cell_type": "code",
   "execution_count": null,
   "metadata": {},
   "outputs": [],
   "source": [
    "task_id"
   ]
  },
  {
   "cell_type": "markdown",
   "metadata": {},
   "source": [
    "----\n",
    "\n",
    "## Get Translation Status\n",
    "\n",
    "This method returns the status of the translation. The status can be one of the following:\n",
    "\n",
    "- SUCCESS\n",
    "- PENDING\n",
    "- TIMEOUT\n",
    "- ERROR\n",
    "- PAYMENT_REQUIRED"
   ]
  },
  {
   "cell_type": "code",
   "execution_count": null,
   "metadata": {},
   "outputs": [],
   "source": [
    "translation_status = client.get_task_status(\"translation\", task_id)\n",
    "# translation_status = client.get_translation_status(task_id)\n",
    "\n",
    "status = translation_status[\"status\"]\n",
    "run_id = translation_status[\"run_id\"]"
   ]
  },
  {
   "cell_type": "code",
   "execution_count": null,
   "metadata": {},
   "outputs": [],
   "source": [
    "status, run_id"
   ]
  },
  {
   "cell_type": "markdown",
   "metadata": {},
   "source": [
    "----\n",
    "\n",
    "## Get Translation Result\n",
    "\n",
    "You can use this method to get the translation result.<br>\n",
    "If you wish to save the translation to a file, set the `save_to_file` argument to `True`."
   ]
  },
  {
   "cell_type": "code",
   "execution_count": null,
   "metadata": {},
   "outputs": [],
   "source": [
    "translation = client.get_translation_result(run_id, save_to_file=True)"
   ]
  },
  {
   "cell_type": "markdown",
   "metadata": {},
   "source": [
    "----\n",
    "\n",
    "To know more, check out Camb AI's [API Documentation](https://docs.camb.ai)."
   ]
  }
 ],
 "metadata": {
  "kernelspec": {
   "display_name": ".venv",
   "language": "python",
   "name": "python3"
  },
  "language_info": {
   "name": "python",
   "version": "3.12.3"
  }
 },
 "nbformat": 4,
 "nbformat_minor": 2
}
