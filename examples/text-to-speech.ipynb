{
 "cells": [
  {
   "cell_type": "markdown",
   "metadata": {},
   "source": [
    "# Text-To-Speech (TTS)\n",
    "\n",
    "This is an example Python notebook for running text-to-speech (TTS) tasks using [Camb.ai](https://camb.ai)'s API.\n",
    "\n",
    "# Index\n",
    "- [TTS Method](#tts-method)\n",
    "- [Individual Methods](#individual-methods)\n",
    "  - [Create TTS](#create-tts)\n",
    "  - [Get TTS Status](#get-tts-status)\n",
    "  - [Get TTS Result](#get-tts-result)"
   ]
  },
  {
   "cell_type": "code",
   "execution_count": null,
   "metadata": {},
   "outputs": [],
   "source": [
    "# !pip install cambai"
   ]
  },
  {
   "cell_type": "markdown",
   "metadata": {},
   "source": [
    "To get started, make sure you import both the `CambAI` class as well as the `Gender` class.\n",
    "\n",
    "The `Gender` class (Optional) is important for the TTS, [Translation](./translation.ipynb), and [Translated TTS](./translated-tts.ipynb) tasks.<br>\n",
    "It allows you to specify the gender of the voice you want to use for the task.\n",
    "\n",
    "Ensure that you have the Camb AI API Key from https://studio.camb.ai"
   ]
  },
  {
   "cell_type": "code",
   "execution_count": null,
   "metadata": {},
   "outputs": [],
   "source": [
    "import os\n",
    "from cambai import CambAI, Gender"
   ]
  },
  {
   "cell_type": "code",
   "execution_count": null,
   "metadata": {},
   "outputs": [],
   "source": [
    "from dotenv import load_dotenv\n",
    "load_dotenv()"
   ]
  },
  {
   "cell_type": "code",
   "execution_count": null,
   "metadata": {},
   "outputs": [],
   "source": [
    "client = CambAI(\n",
    "    api_key=os.environ.get(\"CAMB_API_KEY\") # Get your API key from https://studio.camb.ai\n",
    ")"
   ]
  },
  {
   "cell_type": "markdown",
   "metadata": {},
   "source": [
    "👆 While you can provide an `api_key` as an argument, we recommend using [`python-dotenv`](https://pypi.org/project/python-dotenv/) to add `CAMB_API_KEY=\"Your API Key\"` to your `.env` file to prevent your API Key from being stored in source control.\n",
    "\n",
    "---\n",
    "\n",
    "Make sure that you have a custom voice model added to your account.<br>\n",
    "If you don't have one, make sure to add one either via: \n",
    "- [Camb.ai Studio](https://studio.camb.ai/voice-library)\n",
    "- Using the `create_custom_voice()` method."
   ]
  },
  {
   "cell_type": "code",
   "execution_count": null,
   "metadata": {},
   "outputs": [],
   "source": [
    "client.get_all_voices(write_to_file=True) # Set to True if you want to save the voices to a JSON file"
   ]
  },
  {
   "cell_type": "markdown",
   "metadata": {},
   "source": [
    "To get the numbers for the list of all available languages, you can use the `get_languages()` method.\n",
    "\n",
    "You can also save the list of languages to a file by setting the `write_to_file` argument to `True`."
   ]
  },
  {
   "cell_type": "code",
   "execution_count": null,
   "metadata": {},
   "outputs": [],
   "source": [
    "client.get_languages(\"source\", write_to_file=True)\n",
    "# client.get_languages(\"target\", write_to_file=True)"
   ]
  },
  {
   "cell_type": "markdown",
   "metadata": {},
   "source": [
    "---\n",
    "---\n",
    "\n",
    "# TTS Method\n",
    "\n",
    "You can call the `tts()` method to run the entire TTS task in one go.\n",
    "From calling the API to getting the final result."
   ]
  },
  {
   "cell_type": "code",
   "execution_count": null,
   "metadata": {},
   "outputs": [],
   "source": [
    "voice = 8915 # Select the voice number from the list of voices"
   ]
  },
  {
   "cell_type": "code",
   "execution_count": null,
   "metadata": {},
   "outputs": [],
   "source": [
    "client.tts(\n",
    "    text=\"Hello, world!\",\n",
    "    voice_id=8914,\n",
    "    language=1, # English (United States)\n",
    "    gender=Gender.FEMALE,\n",
    "    age=10,\n",
    "    debug=True # Set to True to print the request and response\n",
    ")"
   ]
  },
  {
   "cell_type": "markdown",
   "metadata": {},
   "source": [
    "The TTS audio file is stored by default in the `audio_tts` directory.\n",
    "\n",
    "**NOTE:** The dubbing process can take a while to complete, so depending on how long the text is, you may have to set the `polling_interval` attribute to a higher value."
   ]
  },
  {
   "cell_type": "markdown",
   "metadata": {},
   "source": [
    "---\n",
    "---\n",
    "\n",
    "# Individual Methods\n",
    "\n",
    "You can also access individual methods to have more control over the TTS task.\n",
    "\n",
    "- [Create TTS](#create-tts)\n",
    "- [Get TTS Status](#get-tts-status)\n",
    "- [Get TTS Result](#get-tts-result)"
   ]
  },
  {
   "cell_type": "markdown",
   "metadata": {},
   "source": [
    "## Create TTS\n",
    "\n",
    "You can use the `create_tts()` method to create a TTS task."
   ]
  },
  {
   "cell_type": "code",
   "execution_count": null,
   "metadata": {},
   "outputs": [],
   "source": [
    "task = client.create_tts(\"Hello, world!\", voice_id=8914, language=1)\n",
    "\n",
    "task_id = task[\"task_id\"]"
   ]
  },
  {
   "cell_type": "code",
   "execution_count": null,
   "metadata": {},
   "outputs": [],
   "source": [
    "task_id"
   ]
  },
  {
   "cell_type": "markdown",
   "metadata": {},
   "source": [
    "----\n",
    "\n",
    "## Get TTS Status\n",
    "\n",
    "This method returns the status of the tts task.\n",
    "\n",
    "If you got the \"SUCCESS\" status, then the audio can be saved using the `get_tts_result()` method."
   ]
  },
  {
   "cell_type": "code",
   "execution_count": null,
   "metadata": {},
   "outputs": [],
   "source": [
    "tts_status = client.get_task_status(\"tts\", task_id)\n",
    "# tts_status = client.get_tts_status(task_id)\n",
    "\n",
    "status = tts_status[\"status\"]\n",
    "run_id = tts_status[\"run_id\"]"
   ]
  },
  {
   "cell_type": "code",
   "execution_count": null,
   "metadata": {},
   "outputs": [],
   "source": [
    "status"
   ]
  },
  {
   "cell_type": "code",
   "execution_count": null,
   "metadata": {},
   "outputs": [],
   "source": [
    "run_id"
   ]
  },
  {
   "cell_type": "markdown",
   "metadata": {},
   "source": [
    "----\n",
    "\n",
    "## Get TTS Result\n",
    "\n",
    "You can use this method to save the TTS audio file into the disk.\n",
    "\n",
    "You can specify the output directory by specifying the `output_directory` argument."
   ]
  },
  {
   "cell_type": "code",
   "execution_count": null,
   "metadata": {},
   "outputs": [],
   "source": [
    "client.get_tts_result(run_id)"
   ]
  }
 ],
 "metadata": {
  "kernelspec": {
   "display_name": ".venv",
   "language": "python",
   "name": "python3"
  },
  "language_info": {
   "codemirror_mode": {
    "name": "ipython",
    "version": 3
   },
   "file_extension": ".py",
   "mimetype": "text/x-python",
   "name": "python",
   "nbconvert_exporter": "python",
   "pygments_lexer": "ipython3",
   "version": "3.12.1"
  }
 },
 "nbformat": 4,
 "nbformat_minor": 2
}
